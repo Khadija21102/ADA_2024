{
 "cells": [
  {
   "cell_type": "code",
   "execution_count": 1,
   "metadata": {},
   "outputs": [],
   "source": [
    "import pandas as pd\n",
    "import numpy as np"
   ]
  },
  {
   "cell_type": "code",
   "execution_count": 6,
   "metadata": {},
   "outputs": [
    {
     "name": "stdout",
     "output_type": "stream",
     "text": [
      "          Intent         Gender            Age                    Race  \\\n",
      "1  None selected  None selected  None selected           None selected   \n",
      "2  None selected  None selected  None selected                   White   \n",
      "3  None selected  None selected  None selected                   Black   \n",
      "4  None selected  None selected  None selected                Hispanic   \n",
      "5  None selected  None selected  None selected  Asian/Pacific Islander   \n",
      "\n",
      "   Deaths  Population  Rate  \n",
      "1   33599   316299978  10.6  \n",
      "2   22079   197369634  11.2  \n",
      "3    7765    38896382  20.0  \n",
      "4    3007    54049078   5.6  \n",
      "5     442    16315561   2.7  \n"
     ]
    }
   ],
   "source": [
    "# Load the data\n",
    "data = pd.read_csv('interactive_data.csv',index_col=0)\n",
    "\n",
    "# show the first few rows\n",
    "print(data.head())"
   ]
  },
  {
   "cell_type": "code",
   "execution_count": 40,
   "metadata": {},
   "outputs": [],
   "source": [
    "# filter the data by removing rows with values == \"None selected\"\n",
    "\n",
    "data = data[data['Age'] != 'None selected']\n",
    "data = data[data['Intent'] != 'None selected']\n",
    "data = data[data[\"Gender\"] != 'None selected']\n",
    "data = data[data[\"Race\"] != 'None selected']\n",
    "data = data[data[\"Deaths\"] != 'None selected']\n",
    "data = data[data[\"Population\"] != 'None selected']\n",
    "data = data[data[\"Rate\"] != 'None selected']\n",
    "data_f= data\n"
   ]
  },
  {
   "cell_type": "code",
   "execution_count": 42,
   "metadata": {},
   "outputs": [
    {
     "name": "stdout",
     "output_type": "stream",
     "text": [
      "62.68194671826165\n"
     ]
    }
   ],
   "source": [
    "# proportion of suicide \n",
    "\n",
    "suicide = data_f[data_f[\"Intent\"]== \"Suicide\"][\"Deaths\"].sum()\n",
    "deaths = data_f[\"Deaths\"].sum()\n",
    "print((suicide/deaths)*100)"
   ]
  },
  {
   "cell_type": "code",
   "execution_count": 43,
   "metadata": {},
   "outputs": [
    {
     "name": "stdout",
     "output_type": "stream",
     "text": [
      "86.24275809668535\n"
     ]
    }
   ],
   "source": [
    "# proportion of suicide is male\n",
    "\n",
    "male_suicide = data_f[(data_f[\"Intent\"]== \"Suicide\") & (data_f[\"Gender\"]== \"Male\")][\"Deaths\"].sum()\n",
    "print((male_suicide/suicide)*100)"
   ]
  },
  {
   "cell_type": "code",
   "execution_count": 44,
   "metadata": {},
   "outputs": [
    {
     "name": "stdout",
     "output_type": "stream",
     "text": [
      "34.906980205387704\n"
     ]
    }
   ],
   "source": [
    "# proportion of homicides\n",
    "homicide = data_f[data_f[\"Intent\"]== \"Homicide\"][\"Deaths\"].sum()\n",
    "deaths = data_f[\"Deaths\"].sum()\n",
    "print((homicide/deaths)*100)"
   ]
  },
  {
   "cell_type": "code",
   "execution_count": 45,
   "metadata": {},
   "outputs": [
    {
     "name": "stdout",
     "output_type": "stream",
     "text": [
      "66.12482748044778\n"
     ]
    }
   ],
   "source": [
    "black_homicide = data_f[(data_f[\"Intent\"]== \"Homicide\") & (data_f[\"Gender\"]== \"Male\") & (data_f[\"Age\"]== \"15 - 34\")& (data_f[\"Race\"]== \"Black\")][\"Deaths\"].sum()\n",
    "young_homicide = data_f[(data_f[\"Intent\"]== \"Homicide\")&(data_f[\"Age\"]== \"15 - 34\")& (data_f[\"Gender\"]== \"Male\")][\"Deaths\"].sum() \n",
    "print((black_homicide/young_homicide)*100)"
   ]
  },
  {
   "cell_type": "code",
   "execution_count": 46,
   "metadata": {},
   "outputs": [
    {
     "name": "stdout",
     "output_type": "stream",
     "text": [
      "15.289502856655583\n",
      "1793\n",
      "11727\n"
     ]
    }
   ],
   "source": [
    "women_homicide = data_f[(data_f[\"Intent\"]== \"Homicide\")&(data_f[\"Gender\"]== \"Female\")][\"Deaths\"].sum()\n",
    "print((women_homicide/homicide)*100)\n",
    "print(women_homicide)\n",
    "print(homicide)"
   ]
  }
 ],
 "metadata": {
  "kernelspec": {
   "display_name": "ada",
   "language": "python",
   "name": "python3"
  },
  "language_info": {
   "codemirror_mode": {
    "name": "ipython",
    "version": 3
   },
   "file_extension": ".py",
   "mimetype": "text/x-python",
   "name": "python",
   "nbconvert_exporter": "python",
   "pygments_lexer": "ipython3",
   "version": "3.11.9"
  }
 },
 "nbformat": 4,
 "nbformat_minor": 2
}
